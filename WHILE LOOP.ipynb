{
 "cells": [
  {
   "cell_type": "code",
   "execution_count": 1,
   "id": "02b61988",
   "metadata": {},
   "outputs": [],
   "source": [
    "# while loop syntax:\n",
    "# while < condition>:\n",
    "#<operation>\n",
    "#<operation>"
   ]
  },
  {
   "cell_type": "code",
   "execution_count": 3,
   "id": "0a547213",
   "metadata": {},
   "outputs": [
    {
     "name": "stdout",
     "output_type": "stream",
     "text": [
      "0 hello\n",
      "1 hello\n",
      "2 hello\n",
      "3 hello\n",
      "4 hello\n"
     ]
    }
   ],
   "source": [
    "# eg: we should initilize the variable\n",
    "a=0\n",
    "while a<5:\n",
    "    print(a,'hello')# a for indexing 0,1,2\n",
    "    a=a+1"
   ]
  },
  {
   "cell_type": "code",
   "execution_count": 6,
   "id": "7c60d9ad",
   "metadata": {},
   "outputs": [
    {
     "name": "stdout",
     "output_type": "stream",
     "text": [
      "1 hello\n",
      "2 hello\n",
      "3 hello\n",
      "4 hello\n",
      "5 hello\n"
     ]
    }
   ],
   "source": [
    "a=1\n",
    "while a<=5:\n",
    "    print(a,'hello')\n",
    "    a+=1"
   ]
  },
  {
   "cell_type": "code",
   "execution_count": null,
   "id": "c86c5422",
   "metadata": {},
   "outputs": [],
   "source": [
    "i=0\n",
    "s=0\n",
    "n=3\n",
    "while i<n:\n",
    "    x= int(input('enter'))\n",
    "    s=s+x\n",
    "    i=i+1\n",
    "print(s)    \n",
    "''' 1 initili ze\n",
    "     2 while condition\n",
    "     3assining the value'''"
   ]
  },
  {
   "cell_type": "code",
   "execution_count": 1,
   "id": "86b62539",
   "metadata": {},
   "outputs": [
    {
     "name": "stdout",
     "output_type": "stream",
     "text": [
      "enter name=dhananjay\n",
      "enter ph9866336574\n",
      "enter name=\n",
      "enter ph\n",
      "enter name=\n",
      "enter ph\n",
      "dhananjay9866336574\n",
      "\n",
      "\n",
      "\n"
     ]
    }
   ],
   "source": [
    "i=0\n",
    "s=str()\n",
    "n=3\n",
    "while i<n:\n",
    "    name = input(\"enter name=\")\n",
    "    ph= input('enter ph')\n",
    "    s= s+name+ph+\"\\n\"\n",
    "    i= i+1\n",
    "print(s)    "
   ]
  },
  {
   "cell_type": "code",
   "execution_count": 2,
   "id": "e57fdc82",
   "metadata": {},
   "outputs": [
    {
     "name": "stdout",
     "output_type": "stream",
     "text": [
      "0 1 2 3 4 "
     ]
    }
   ],
   "source": [
    "i=0\n",
    "n=10\n",
    "while i<n:\n",
    "    if i ==5:\n",
    "        break  # mostely used \n",
    "    print(i,end=\" \")\n",
    "    i=i+1"
   ]
  },
  {
   "cell_type": "code",
   "execution_count": null,
   "id": "2a3adc9d",
   "metadata": {},
   "outputs": [
    {
     "name": "stdout",
     "output_type": "stream",
     "text": [
      "0 1 2 3 4 "
     ]
    }
   ],
   "source": [
    "i=0\n",
    "n=10\n",
    "while i<n:\n",
    "    if i==5:\n",
    "        continue\n",
    "    print(i,end=\" \")\n",
    "    i=i+1\n",
    "    # o/p:0 1 2 3 4    that is wrong"
   ]
  },
  {
   "cell_type": "code",
   "execution_count": 1,
   "id": "7e79624c",
   "metadata": {},
   "outputs": [
    {
     "name": "stdout",
     "output_type": "stream",
     "text": [
      "0 1 2 3 4 6 7 8 9 "
     ]
    }
   ],
   "source": [
    "i=0\n",
    "n=10\n",
    "while i<n:\n",
    "    if i==5:\n",
    "        i=i+1\n",
    "        continue\n",
    "    print(i,end=\" \")\n",
    "    i=i+1\n",
    "    # o/p:0 1 2 3 4 6 7 8 9 this is right way"
   ]
  },
  {
   "cell_type": "code",
   "execution_count": null,
   "id": "4cba617b",
   "metadata": {},
   "outputs": [],
   "source": [
    "n=int(input())\n",
    "def is_composite(n):\n",
    "    \"\"\"Check if a number is composite.\"\"\"\n",
    "    if n <= 1:\n",
    "        return False\n",
    "    for i in range(2, int(n**0.5) + 1):\n",
    "        if n % i == 0:\n",
    "            return True\n",
    "    return False\n",
    "\n",
    "def is_prime(n):\n",
    "    \"\"\"Check if a number is prime.\"\"\"\n",
    "    if n <= 1:\n",
    "        return False\n",
    "    for i in range(2, int(n**0.5) + 1):\n",
    "        if n % i == 0:\n",
    "            return False\n",
    "    return True\n"
   ]
  },
  {
   "cell_type": "code",
   "execution_count": 8,
   "id": "bef85ba3",
   "metadata": {},
   "outputs": [
    {
     "name": "stdout",
     "output_type": "stream",
     "text": [
      "10\n",
      "i.e composit no\n"
     ]
    }
   ],
   "source": [
    "n=int(input())\n",
    "for i in range(2,n):\n",
    "    if n%i==0:\n",
    "        print('i.e composit no')\n",
    "        break\n",
    "else:\n",
    "    print('prime')"
   ]
  },
  {
   "cell_type": "code",
   "execution_count": 10,
   "id": "29bddc1c",
   "metadata": {},
   "outputs": [
    {
     "name": "stdout",
     "output_type": "stream",
     "text": [
      "10\n"
     ]
    }
   ],
   "source": [
    "n=int(input())\n",
    "def is_composite(n):\n",
    "    \"\"\"Check if a number is composite.\"\"\"\n",
    "    if n < 4:\n",
    "        return False\n",
    "    return any(n % i == 0 for i in range(2, int(n**0.5) + 1))\n",
    "\n",
    "def is_prime(n):\n",
    "    \"\"\"Check if a number is prime.\"\"\"\n",
    "    if n < 2:\n",
    "        return False\n",
    "    return all(n % i != 0 for i in range(2, int(n**0.5) + 1))\n"
   ]
  },
  {
   "cell_type": "code",
   "execution_count": 20,
   "id": "a1610880",
   "metadata": {},
   "outputs": [
    {
     "name": "stdout",
     "output_type": "stream",
     "text": [
      "enter4\n",
      "24\n"
     ]
    }
   ],
   "source": [
    "# wap to calculate factorial of any given num\n",
    "s=1\n",
    "n=int( input('enter'))\n",
    "for i in range(1,n+1):\n",
    "    s=s*i\n",
    "print(s)\n",
    "    \n"
   ]
  },
  {
   "cell_type": "code",
   "execution_count": 28,
   "id": "a28f83bf",
   "metadata": {},
   "outputs": [
    {
     "name": "stdout",
     "output_type": "stream",
     "text": [
      "enter the num4\n"
     ]
    }
   ],
   "source": [
    "n=int(input('enter the num'))\n",
    "def fac(n):\n",
    "    if n == 0:\n",
    "        print('zero')\n",
    "    else:\n",
    "        s= n*fac(n-1)\n",
    "        print(s)"
   ]
  },
  {
   "cell_type": "code",
   "execution_count": 31,
   "id": "dc969f66",
   "metadata": {},
   "outputs": [
    {
     "name": "stdout",
     "output_type": "stream",
     "text": [
      "Enter a non-negative integer: 4\n",
      "The factorial of 4 is 24.\n"
     ]
    }
   ],
   "source": [
    "def factorial(n):\n",
    "    \"\"\"Calculate the factorial of a non-negative integer.\"\"\"\n",
    "    if n < 0:\n",
    "        return \"Factorial is not defined for negative numbers.\"\n",
    "    elif n == 0:\n",
    "        return 1\n",
    "    else:\n",
    "        result = 1\n",
    "        for i in range(1, n + 1):\n",
    "            result *= i\n",
    "        return result\n",
    "\n",
    "# Get user input\n",
    "num = int(input(\"Enter a non-negative integer: \"))\n",
    "\n",
    "# Calculate factorial\n",
    "fact = factorial(num)\n",
    "\n",
    "# Display result\n",
    "print(f\"The factorial of {num} is {fact}.\")\n",
    "\n"
   ]
  },
  {
   "cell_type": "code",
   "execution_count": null,
   "id": "07c4fae5",
   "metadata": {},
   "outputs": [],
   "source": []
  }
 ],
 "metadata": {
  "kernelspec": {
   "display_name": "Python 3 (ipykernel)",
   "language": "python",
   "name": "python3"
  },
  "language_info": {
   "codemirror_mode": {
    "name": "ipython",
    "version": 3
   },
   "file_extension": ".py",
   "mimetype": "text/x-python",
   "name": "python",
   "nbconvert_exporter": "python",
   "pygments_lexer": "ipython3",
   "version": "3.9.13"
  }
 },
 "nbformat": 4,
 "nbformat_minor": 5
}
